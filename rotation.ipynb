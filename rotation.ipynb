{
  "nbformat": 4,
  "nbformat_minor": 0,
  "metadata": {
    "colab": {
      "name": "rotation.ipynb",
      "version": "0.3.2",
      "provenance": [],
      "collapsed_sections": [],
      "include_colab_link": true
    },
    "kernelspec": {
      "name": "python2",
      "display_name": "Python 2"
    }
  },
  "cells": [
    {
      "cell_type": "markdown",
      "metadata": {
        "id": "view-in-github",
        "colab_type": "text"
      },
      "source": [
        "<a href=\"https://colab.research.google.com/github/YemmyMMU/Computer-Vision-and-Graphics/blob/master/rotation.ipynb\" target=\"_parent\"><img src=\"https://colab.research.google.com/assets/colab-badge.svg\" alt=\"Open In Colab\"/></a>"
      ]
    },
    {
      "cell_type": "code",
      "metadata": {
        "id": "2Yedj52UblvO",
        "colab_type": "code",
        "colab": {
          "base_uri": "https://localhost:8080/",
          "height": 1000
        },
        "outputId": "496cca0f-c071-4c41-a186-d0a64e7e2246"
      },
      "source": [
        "!pip install tensorflow_graphics\n",
        "\n",
        "from __future__ import absolute_import\n",
        "from __future__ import division\n",
        "from __future__ import print_function\n",
        "\n",
        "import time\n",
        "\n",
        "import matplotlib.pyplot as plt\n",
        "import numpy as np\n",
        "import tensorflow as tf\n",
        "from tensorflow import keras\n",
        "from tensorflow.keras import layers\n",
        "\n",
        "from tensorflow_graphics.geometry.transformation import quaternion\n",
        "from tensorflow_graphics.math import vector\n",
        "from tensorflow_graphics.notebooks import threejs_visualization\n",
        "from tensorflow_graphics.notebooks.resources import tfg_simplified_logo\n",
        "\n",
        "tf.enable_eager_execution()\n",
        "\n",
        "# Loads the Tensorflow Graphics simplified logo.\n",
        "vertices = tfg_simplified_logo.mesh['vertices'].astype(np.float32)\n",
        "faces = tfg_simplified_logo.mesh['faces']\n",
        "num_vertices = vertices.shape[0]\n",
        "\n",
        "# Constructs the model.\n",
        "model = keras.Sequential()\n",
        "model.add(layers.Flatten(input_shape=(num_vertices, 3)))\n",
        "model.add(layers.Dense(64, activation=tf.nn.tanh))\n",
        "model.add(layers.Dense(64, activation=tf.nn.relu))\n",
        "model.add(layers.Dense(7))\n",
        "\n",
        "\n",
        "def pose_estimation_loss(y_true, y_pred):\n",
        "  \"\"\"Pose estimation loss used for training.\n",
        "\n",
        "  This loss measures the average of squared distance between some vertices\n",
        "  of the mesh in 'rest pose' and the transformed mesh to which the predicted\n",
        "  inverse pose is applied. Comparing this loss with a regular L2 loss on the\n",
        "  quaternion and translation values is left as exercise to the interested\n",
        "  reader.\n",
        "\n",
        "  Args:\n",
        "    y_true: The ground-truth value.\n",
        "    y_pred: The prediction we want to evaluate the loss for.\n",
        "\n",
        "  Returns:\n",
        "    A scalar value containing the loss described in the description above.\n",
        "  \"\"\"\n",
        "  # y_true.shape : (batch, 7)\n",
        "  y_true_q, y_true_t = tf.split(y_true, (4, 3), axis=-1)\n",
        "  # y_pred.shape : (batch, 7)\n",
        "  y_pred_q, y_pred_t = tf.split(y_pred, (4, 3), axis=-1)\n",
        "\n",
        "  # vertices.shape: (num_vertices, 3)\n",
        "  # corners.shape:(num_vertices, 1, 3)\n",
        "  corners = tf.expand_dims(vertices, axis=1)\n",
        "\n",
        "  # transformed_corners.shape: (num_vertices, batch, 3)\n",
        "  # q and t shapes get pre-pre-padded with 1's following standard broadcast rules.\n",
        "  transformed_corners = quaternion.rotate(corners, y_pred_q) + y_pred_t\n",
        "\n",
        "  # recovered_corners.shape: (num_vertices, batch, 3)\n",
        "  recovered_corners = quaternion.rotate(transformed_corners - y_true_t,\n",
        "                                        quaternion.inverse(y_true_q))\n",
        "\n",
        "  # vertex_error.shape: (num_vertices, batch)\n",
        "  vertex_error = tf.reduce_sum((recovered_corners - corners)**2, axis=-1)\n",
        "\n",
        "  return tf.reduce_mean(vertex_error)\n",
        "\n",
        "\n",
        "optimizer = keras.optimizers.Adam()\n",
        "model.compile(loss=pose_estimation_loss, optimizer=optimizer)\n",
        "model.summary()\n",
        "\n",
        "\n",
        "def generate_training_data(num_samples):\n",
        "  # random_angles.shape: (num_samples, 3)\n",
        "  random_angles = np.random.uniform(-np.pi, np.pi,\n",
        "                                    (num_samples, 3)).astype(np.float32)\n",
        "\n",
        "  # random_quaternion.shape: (num_samples, 4)\n",
        "  random_quaternion = quaternion.from_euler(random_angles)\n",
        "\n",
        "  # random_translation.shape: (num_samples, 3)\n",
        "  random_translation = np.random.uniform(-2.0, 2.0,\n",
        "                                         (num_samples, 3)).astype(np.float32)\n",
        "\n",
        "  # data.shape : (num_samples, num_vertices, 3)\n",
        "  data = quaternion.rotate(vertices[tf.newaxis, :, :],\n",
        "                           random_quaternion[:, tf.newaxis, :]\n",
        "                          ) + random_translation[:, tf.newaxis, :]\n",
        "\n",
        "  # target.shape : (num_samples, 4+3)\n",
        "  target = tf.concat((random_quaternion, random_translation), axis=-1)\n",
        "\n",
        "  return np.array(data), np.array(target)\n",
        "\n",
        "num_samples = 10000\n",
        "\n",
        "data, target = generate_training_data(num_samples)\n",
        "\n",
        "print(data.shape)   # (num_samples, num_vertices, 3): the vertices\n",
        "print(target.shape)  # (num_samples, 4+3): the quaternion and translation\n",
        "\n",
        "\n",
        "# Callback allowing to display the progression of the training task.\n",
        "class ProgressTracker(keras.callbacks.Callback):\n",
        "\n",
        "  def __init__(self, num_epochs, step=5):\n",
        "    self.num_epochs = num_epochs\n",
        "    self.current_epoch = 0.\n",
        "    self.step = step\n",
        "    self.last_percentage_report = 0\n",
        "\n",
        "  def on_epoch_end(self, batch, logs={}):\n",
        "    self.current_epoch += 1.\n",
        "    training_percentage = int(self.current_epoch * 100.0 / self.num_epochs)\n",
        "    if training_percentage - self.last_percentage_report >= self.step:\n",
        "      print('Training ' + str(\n",
        "          training_percentage) + '% complete. Training loss: ' + str(\n",
        "              logs.get('loss')) + ' | Validation loss: ' + str(\n",
        "                  logs.get('val_loss')))\n",
        "      self.last_percentage_report = training_percentage\n",
        "      \n",
        "      \n",
        "reduce_lr_callback = keras.callbacks.ReduceLROnPlateau(\n",
        "    monitor='val_loss',\n",
        "    factor=0.5,\n",
        "    patience=10,\n",
        "    verbose=0,\n",
        "    mode='auto',\n",
        "    min_delta=0.0001,\n",
        "    cooldown=0,\n",
        "    min_lr=0)\n",
        "    \n",
        "    \n",
        "# Everything is now in place to train.\n",
        "EPOCHS = 100\n",
        "pt = ProgressTracker(EPOCHS)\n",
        "history = model.fit(\n",
        "    data,\n",
        "    target,\n",
        "    epochs=EPOCHS,\n",
        "    validation_split=0.2,\n",
        "    verbose=0,\n",
        "    batch_size=32,\n",
        "    callbacks=[reduce_lr_callback, pt])\n",
        "\n",
        "plt.plot(history.history['loss'])\n",
        "plt.plot(history.history['val_loss'])\n",
        "plt.ylim([0, 1])\n",
        "plt.legend(['loss', 'val loss'], loc='upper left')\n",
        "plt.xlabel('Train epoch')\n",
        "_ = plt.ylabel('Error [mean square distance]')\n",
        "\n",
        "\n",
        "\n",
        "\n",
        "# Defines the loss function to be optimized.\n",
        "def transform_points(target_points, quaternion_variable, translation_variable):\n",
        "  return quaternion.rotate(target_points,\n",
        "                           quaternion_variable) + translation_variable\n",
        "\n",
        "class Viewer(object):\n",
        "\n",
        "  def __init__(self, my_vertices):\n",
        "    my_vertices = np.asarray(my_vertices)\n",
        "    context = threejs_visualization.build_context()\n",
        "    light1 = context.THREE.PointLight.new_object(0x808080)\n",
        "    light1.position.set(10., 10., 10.)\n",
        "    light2 = context.THREE.AmbientLight.new_object(0x808080)\n",
        "    lights = (light1, light2)\n",
        "\n",
        "    material = context.THREE.MeshLambertMaterial.new_object({\n",
        "        'color': 0xfffacd,\n",
        "    })\n",
        "\n",
        "    material_deformed = context.THREE.MeshLambertMaterial.new_object({\n",
        "        'color': 0xf0fff0,\n",
        "    })\n",
        "\n",
        "    camera = threejs_visualization.build_perspective_camera(\n",
        "        field_of_view=30, position=(10.0, 10.0, 10.0))\n",
        "\n",
        "    mesh = {'vertices': vertices, 'faces': faces, 'material': material}\n",
        "    transformed_mesh = {\n",
        "        'vertices': my_vertices,\n",
        "        'faces': faces,\n",
        "        'material': material_deformed\n",
        "    }\n",
        "    geometries = threejs_visualization.triangular_mesh_renderer(\n",
        "        [mesh, transformed_mesh],\n",
        "        lights=lights,\n",
        "        camera=camera,\n",
        "        width=400,\n",
        "        height=400)\n",
        "\n",
        "    self.geometries = geometries\n",
        "\n",
        "  def update(self, transformed_points):\n",
        "    self.geometries[1].getAttribute('position').copyArray(\n",
        "        transformed_points.numpy().ravel().tolist())\n",
        "    self.geometries[1].getAttribute('position').needsUpdate = True\n",
        "\n",
        "    \n",
        "def get_random_transform():\n",
        "  # Forms a random translation\n",
        "  with tf.name_scope('translation_variable'):\n",
        "    random_translation = tf.Variable(\n",
        "        np.random.uniform(-2.0, 2.0, (3,)), dtype=tf.float32)\n",
        "\n",
        "  # Forms a random quaternion\n",
        "  hi = np.pi\n",
        "  lo = -hi\n",
        "  random_angles = np.random.uniform(lo, hi, (3,)).astype(np.float32)\n",
        "  with tf.name_scope('rotation_variable'):\n",
        "    random_quaternion = tf.Variable(quaternion.from_euler(random_angles))\n",
        "\n",
        "  return random_quaternion, random_translation\n",
        "\n",
        "\n",
        "random_quaternion, random_translation = get_random_transform()\n",
        "\n",
        "initial_orientation = transform_points(vertices, random_quaternion,\n",
        "                                       random_translation).numpy()\n",
        "viewer = Viewer(initial_orientation)\n",
        "\n",
        "predicted_transformation = model.predict(initial_orientation[tf.newaxis, :, :])\n",
        "\n",
        "predicted_inverse_q = quaternion.inverse(predicted_transformation[0, 0:4])\n",
        "predicted_inverse_t = -predicted_transformation[0, 4:]\n",
        "\n",
        "predicted_aligned = quaternion.rotate(initial_orientation + predicted_inverse_t,\n",
        "                                      predicted_inverse_q)\n",
        "\n",
        "viewer = Viewer(predicted_aligned)\n",
        "    \n",
        "    \n",
        " "
      ],
      "execution_count": 10,
      "outputs": [
        {
          "output_type": "stream",
          "text": [
            "Requirement already satisfied: tensorflow_graphics in /usr/local/lib/python2.7/dist-packages (1.0.0)\n",
            "Requirement already satisfied: numpy>=1.15.4 in /usr/local/lib/python2.7/dist-packages (from tensorflow_graphics) (1.16.4)\n",
            "Requirement already satisfied: six>=1.11.0 in /usr/local/lib/python2.7/dist-packages (from tensorflow_graphics) (1.12.0)\n",
            "Requirement already satisfied: absl-py>=0.6.1 in /usr/local/lib/python2.7/dist-packages (from tensorflow_graphics) (0.7.1)\n",
            "Requirement already satisfied: tensorflow>=1.13.1 in /usr/local/lib/python2.7/dist-packages (from tensorflow_graphics) (1.14.0)\n",
            "Requirement already satisfied: scipy>=1.1.0 in /usr/local/lib/python2.7/dist-packages (from tensorflow_graphics) (1.2.2)\n",
            "Requirement already satisfied: enum34; python_version < \"3.4\" in /usr/local/lib/python2.7/dist-packages (from absl-py>=0.6.1->tensorflow_graphics) (1.1.6)\n",
            "Requirement already satisfied: grpcio>=1.8.6 in /usr/local/lib/python2.7/dist-packages (from tensorflow>=1.13.1->tensorflow_graphics) (1.15.0)\n",
            "Requirement already satisfied: mock>=2.0.0 in /usr/local/lib/python2.7/dist-packages (from tensorflow>=1.13.1->tensorflow_graphics) (2.0.0)\n",
            "Requirement already satisfied: keras-applications>=1.0.6 in /usr/local/lib/python2.7/dist-packages (from tensorflow>=1.13.1->tensorflow_graphics) (1.0.8)\n",
            "Requirement already satisfied: tensorboard<1.15.0,>=1.14.0 in /usr/local/lib/python2.7/dist-packages (from tensorflow>=1.13.1->tensorflow_graphics) (1.14.0)\n",
            "Requirement already satisfied: wrapt>=1.11.1 in /usr/local/lib/python2.7/dist-packages (from tensorflow>=1.13.1->tensorflow_graphics) (1.11.2)\n",
            "Requirement already satisfied: protobuf>=3.6.1 in /usr/local/lib/python2.7/dist-packages (from tensorflow>=1.13.1->tensorflow_graphics) (3.7.1)\n",
            "Requirement already satisfied: keras-preprocessing>=1.0.5 in /usr/local/lib/python2.7/dist-packages (from tensorflow>=1.13.1->tensorflow_graphics) (1.1.0)\n",
            "Requirement already satisfied: gast>=0.2.0 in /usr/local/lib/python2.7/dist-packages (from tensorflow>=1.13.1->tensorflow_graphics) (0.2.2)\n",
            "Requirement already satisfied: wheel in /usr/local/lib/python2.7/dist-packages (from tensorflow>=1.13.1->tensorflow_graphics) (0.33.4)\n",
            "Requirement already satisfied: termcolor>=1.1.0 in /usr/local/lib/python2.7/dist-packages (from tensorflow>=1.13.1->tensorflow_graphics) (1.1.0)\n",
            "Requirement already satisfied: tensorflow-estimator<1.15.0rc0,>=1.14.0rc0 in /usr/local/lib/python2.7/dist-packages (from tensorflow>=1.13.1->tensorflow_graphics) (1.14.0)\n",
            "Requirement already satisfied: google-pasta>=0.1.6 in /usr/local/lib/python2.7/dist-packages (from tensorflow>=1.13.1->tensorflow_graphics) (0.1.7)\n",
            "Requirement already satisfied: backports.weakref>=1.0rc1 in /usr/local/lib/python2.7/dist-packages (from tensorflow>=1.13.1->tensorflow_graphics) (1.0.post1)\n",
            "Requirement already satisfied: astor>=0.6.0 in /usr/local/lib/python2.7/dist-packages (from tensorflow>=1.13.1->tensorflow_graphics) (0.8.0)\n",
            "Requirement already satisfied: futures>=2.2.0 in /usr/local/lib/python2.7/dist-packages (from grpcio>=1.8.6->tensorflow>=1.13.1->tensorflow_graphics) (3.2.0)\n",
            "Requirement already satisfied: funcsigs>=1; python_version < \"3.3\" in /usr/local/lib/python2.7/dist-packages (from mock>=2.0.0->tensorflow>=1.13.1->tensorflow_graphics) (1.0.2)\n",
            "Requirement already satisfied: pbr>=0.11 in /usr/local/lib/python2.7/dist-packages (from mock>=2.0.0->tensorflow>=1.13.1->tensorflow_graphics) (5.3.1)\n",
            "Requirement already satisfied: h5py in /usr/local/lib/python2.7/dist-packages (from keras-applications>=1.0.6->tensorflow>=1.13.1->tensorflow_graphics) (2.8.0)\n",
            "Requirement already satisfied: setuptools>=41.0.0 in /usr/local/lib/python2.7/dist-packages (from tensorboard<1.15.0,>=1.14.0->tensorflow>=1.13.1->tensorflow_graphics) (41.0.1)\n",
            "Requirement already satisfied: werkzeug>=0.11.15 in /usr/local/lib/python2.7/dist-packages (from tensorboard<1.15.0,>=1.14.0->tensorflow>=1.13.1->tensorflow_graphics) (0.15.4)\n",
            "Requirement already satisfied: markdown>=2.6.8 in /usr/local/lib/python2.7/dist-packages (from tensorboard<1.15.0,>=1.14.0->tensorflow>=1.13.1->tensorflow_graphics) (3.1.1)\n",
            "Model: \"sequential_9\"\n",
            "_________________________________________________________________\n",
            "Layer (type)                 Output Shape              Param #   \n",
            "=================================================================\n",
            "flatten_9 (Flatten)          (None, 114)               0         \n",
            "_________________________________________________________________\n",
            "dense_27 (Dense)             (None, 64)                7360      \n",
            "_________________________________________________________________\n",
            "dense_28 (Dense)             (None, 64)                4160      \n",
            "_________________________________________________________________\n",
            "dense_29 (Dense)             (None, 7)                 455       \n",
            "=================================================================\n",
            "Total params: 11,975\n",
            "Trainable params: 11,975\n",
            "Non-trainable params: 0\n",
            "_________________________________________________________________\n",
            "(10000, 38, 3)\n",
            "(10000, 7)\n",
            "Training 5% complete. Training loss: 0.9852751889228821 | Validation loss: 0.9604950528144837\n",
            "Training 10% complete. Training loss: 0.5241179845929146 | Validation loss: 0.5710167663097382\n",
            "Training 15% complete. Training loss: 0.3724045834541321 | Validation loss: 0.42150114369392394\n",
            "Training 20% complete. Training loss: 0.29738890945911406 | Validation loss: 0.3379549630880356\n",
            "Training 25% complete. Training loss: 0.23296712109446527 | Validation loss: 0.2651781888008118\n",
            "Training 30% complete. Training loss: 0.20521356038749217 | Validation loss: 0.24854345405101777\n",
            "Training 35% complete. Training loss: 0.16498829478025437 | Validation loss: 0.17746254312992096\n",
            "Training 40% complete. Training loss: 0.16503013880550862 | Validation loss: 0.16507238721847534\n",
            "Training 45% complete. Training loss: 0.14864775310456751 | Validation loss: 0.14947102802991868\n",
            "Training 50% complete. Training loss: 0.1420899103730917 | Validation loss: 0.17307522815465928\n",
            "Training 55% complete. Training loss: 0.139053753092885 | Validation loss: 0.16756907868385315\n",
            "Training 60% complete. Training loss: 0.12464237177371978 | Validation loss: 0.13505440390110016\n",
            "Training 65% complete. Training loss: 0.10816771993041038 | Validation loss: 0.14863953930139542\n",
            "Training 70% complete. Training loss: 0.13700618074834348 | Validation loss: 0.13721128964424134\n",
            "Training 75% complete. Training loss: 0.11118828835338354 | Validation loss: 0.12204494932293893\n",
            "Training 80% complete. Training loss: 0.09592838674783706 | Validation loss: 0.12133267633616925\n",
            "Training 85% complete. Training loss: 0.07125135305151344 | Validation loss: 0.10965155005455017\n",
            "Training 90% complete. Training loss: 0.06013862693309784 | Validation loss: 0.1076155897974968\n",
            "Training 95% complete. Training loss: 0.04216331721097231 | Validation loss: 0.11459117774665356\n",
            "Training 100% complete. Training loss: 0.04115597425401211 | Validation loss: 0.10887328077852726\n"
          ],
          "name": "stdout"
        },
        {
          "output_type": "display_data",
          "data": {
            "text/plain": [
              "<IPython.core.display.HTML object>"
            ],
            "text/html": [
              "<script src='https://www.gstatic.com/external_hosted/threejs-r98/three.min.js'></script>"
            ]
          },
          "metadata": {
            "tags": []
          }
        },
        {
          "output_type": "display_data",
          "data": {
            "text/plain": [
              "<IPython.core.display.HTML object>"
            ],
            "text/html": [
              "<script src='https://www.gstatic.com/external_hosted/threejs-r98/examples/js/controls/OrbitControls.js'></script>"
            ]
          },
          "metadata": {
            "tags": []
          }
        },
        {
          "output_type": "display_data",
          "data": {
            "application/javascript": [
              "window[\"9f09eebe-9f56-11e9-984b-0242ac1c0002\"] = new THREE.PointLight(8421504);\n",
              "//# sourceURL=js_5b935f4e24"
            ],
            "text/plain": [
              "<IPython.core.display.Javascript object>"
            ]
          },
          "metadata": {
            "tags": []
          }
        },
        {
          "output_type": "display_data",
          "data": {
            "application/javascript": [
              "window[\"9f0a521e-9f56-11e9-984b-0242ac1c0002\"] = window[\"9f09eebe-9f56-11e9-984b-0242ac1c0002\"].position.set(10.0, 10.0, 10.0);\n",
              "//# sourceURL=js_e021153db7"
            ],
            "text/plain": [
              "<IPython.core.display.Javascript object>"
            ]
          },
          "metadata": {
            "tags": []
          }
        },
        {
          "output_type": "display_data",
          "data": {
            "application/javascript": [
              "window[\"9f0aaa16-9f56-11e9-984b-0242ac1c0002\"] = new THREE.AmbientLight(8421504);\n",
              "//# sourceURL=js_83ffe40625"
            ],
            "text/plain": [
              "<IPython.core.display.Javascript object>"
            ]
          },
          "metadata": {
            "tags": []
          }
        },
        {
          "output_type": "display_data",
          "data": {
            "application/javascript": [
              "window[\"9f0b1d02-9f56-11e9-984b-0242ac1c0002\"] = new THREE.MeshLambertMaterial({\"color\": 16775885});\n",
              "//# sourceURL=js_ff7e432b1d"
            ],
            "text/plain": [
              "<IPython.core.display.Javascript object>"
            ]
          },
          "metadata": {
            "tags": []
          }
        },
        {
          "output_type": "display_data",
          "data": {
            "application/javascript": [
              "window[\"9f0b7860-9f56-11e9-984b-0242ac1c0002\"] = new THREE.MeshLambertMaterial({\"color\": 15794160});\n",
              "//# sourceURL=js_6f8b979436"
            ],
            "text/plain": [
              "<IPython.core.display.Javascript object>"
            ]
          },
          "metadata": {
            "tags": []
          }
        },
        {
          "output_type": "display_data",
          "data": {
            "text/plain": [
              "<IPython.core.display.HTML object>"
            ],
            "text/html": [
              "<script src='https://www.gstatic.com/external_hosted/threejs-r98/three.min.js'></script>"
            ]
          },
          "metadata": {
            "tags": []
          }
        },
        {
          "output_type": "display_data",
          "data": {
            "text/plain": [
              "<IPython.core.display.HTML object>"
            ],
            "text/html": [
              "<script src='https://www.gstatic.com/external_hosted/threejs-r98/examples/js/controls/OrbitControls.js'></script>"
            ]
          },
          "metadata": {
            "tags": []
          }
        },
        {
          "output_type": "display_data",
          "data": {
            "application/javascript": [
              "window[\"9f0ce952-9f56-11e9-984b-0242ac1c0002\"] = new THREE.PerspectiveCamera(30, 1.0, 0.01, 1000.0);\n",
              "//# sourceURL=js_4e502605bf"
            ],
            "text/plain": [
              "<IPython.core.display.Javascript object>"
            ]
          },
          "metadata": {
            "tags": []
          }
        },
        {
          "output_type": "display_data",
          "data": {
            "application/javascript": [
              "window[\"9f0d6026-9f56-11e9-984b-0242ac1c0002\"] = window[\"9f0ce952-9f56-11e9-984b-0242ac1c0002\"].position.set(10.0, 10.0, 10.0);\n",
              "//# sourceURL=js_56b227ff1b"
            ],
            "text/plain": [
              "<IPython.core.display.Javascript object>"
            ]
          },
          "metadata": {
            "tags": []
          }
        },
        {
          "output_type": "display_data",
          "data": {
            "application/javascript": [
              "window[\"9f0db63e-9f56-11e9-984b-0242ac1c0002\"] = new THREE.OrbitControls(window[\"9f0ce952-9f56-11e9-984b-0242ac1c0002\"]);\n",
              "//# sourceURL=js_de2f4d5c58"
            ],
            "text/plain": [
              "<IPython.core.display.Javascript object>"
            ]
          },
          "metadata": {
            "tags": []
          }
        },
        {
          "output_type": "display_data",
          "data": {
            "application/javascript": [
              "window[\"9f0db63e-9f56-11e9-984b-0242ac1c0002\"].enableZoom = false;\n",
              "//# sourceURL=js_5a8670e593"
            ],
            "text/plain": [
              "<IPython.core.display.Javascript object>"
            ]
          },
          "metadata": {
            "tags": []
          }
        },
        {
          "output_type": "display_data",
          "data": {
            "text/plain": [
              "<IPython.core.display.HTML object>"
            ],
            "text/html": [
              "<script src='https://www.gstatic.com/external_hosted/threejs-r98/three.min.js'></script>"
            ]
          },
          "metadata": {
            "tags": []
          }
        },
        {
          "output_type": "display_data",
          "data": {
            "text/plain": [
              "<IPython.core.display.HTML object>"
            ],
            "text/html": [
              "<script src='https://www.gstatic.com/external_hosted/threejs-r98/examples/js/controls/OrbitControls.js'></script>"
            ]
          },
          "metadata": {
            "tags": []
          }
        },
        {
          "output_type": "display_data",
          "data": {
            "application/javascript": [
              "window[\"9f0f24c4-9f56-11e9-984b-0242ac1c0002\"] = new THREE.WebGLRenderer({\"antialias\": true});\n",
              "//# sourceURL=js_f324440e97"
            ],
            "text/plain": [
              "<IPython.core.display.Javascript object>"
            ]
          },
          "metadata": {
            "tags": []
          }
        },
        {
          "output_type": "display_data",
          "data": {
            "application/javascript": [
              "window[\"9f0f9c60-9f56-11e9-984b-0242ac1c0002\"] = window[\"9f0f24c4-9f56-11e9-984b-0242ac1c0002\"].setSize(400, 400);\n",
              "//# sourceURL=js_0bd40ca3b1"
            ],
            "text/plain": [
              "<IPython.core.display.Javascript object>"
            ]
          },
          "metadata": {
            "tags": []
          }
        },
        {
          "output_type": "display_data",
          "data": {
            "application/javascript": [
              "window[\"9f0feeea-9f56-11e9-984b-0242ac1c0002\"] = new THREE.Color(\"rgb(0, 0, 0)\");\n",
              "//# sourceURL=js_37dad28b29"
            ],
            "text/plain": [
              "<IPython.core.display.Javascript object>"
            ]
          },
          "metadata": {
            "tags": []
          }
        },
        {
          "output_type": "display_data",
          "data": {
            "application/javascript": [
              "window[\"9f1065fa-9f56-11e9-984b-0242ac1c0002\"] = window[\"9f0f24c4-9f56-11e9-984b-0242ac1c0002\"].setClearColor(window[\"9f0feeea-9f56-11e9-984b-0242ac1c0002\"]);\n",
              "//# sourceURL=js_006c4f8492"
            ],
            "text/plain": [
              "<IPython.core.display.Javascript object>"
            ]
          },
          "metadata": {
            "tags": []
          }
        },
        {
          "output_type": "display_data",
          "data": {
            "application/javascript": [
              "window[\"9f10d3a0-9f56-11e9-984b-0242ac1c0002\"] = window[\"9f0f24c4-9f56-11e9-984b-0242ac1c0002\"].clear();\n",
              "//# sourceURL=js_16c891e778"
            ],
            "text/plain": [
              "<IPython.core.display.Javascript object>"
            ]
          },
          "metadata": {
            "tags": []
          }
        },
        {
          "output_type": "display_data",
          "data": {
            "application/javascript": [
              "window[\"9f114c9a-9f56-11e9-984b-0242ac1c0002\"] = document.body.appendChild(window[\"9f0f24c4-9f56-11e9-984b-0242ac1c0002\"].domElement);\n",
              "//# sourceURL=js_3628128644"
            ],
            "text/plain": [
              "<IPython.core.display.Javascript object>"
            ]
          },
          "metadata": {
            "tags": []
          }
        },
        {
          "output_type": "display_data",
          "data": {
            "application/javascript": [
              "window[\"9f119efc-9f56-11e9-984b-0242ac1c0002\"] = new THREE.Scene();\n",
              "//# sourceURL=js_5117e18b09"
            ],
            "text/plain": [
              "<IPython.core.display.Javascript object>"
            ]
          },
          "metadata": {
            "tags": []
          }
        },
        {
          "output_type": "display_data",
          "data": {
            "application/javascript": [
              "window[\"9f120842-9f56-11e9-984b-0242ac1c0002\"] = window[\"9f119efc-9f56-11e9-984b-0242ac1c0002\"].add(window[\"9f09eebe-9f56-11e9-984b-0242ac1c0002\"]);\n",
              "//# sourceURL=js_b40263167c"
            ],
            "text/plain": [
              "<IPython.core.display.Javascript object>"
            ]
          },
          "metadata": {
            "tags": []
          }
        },
        {
          "output_type": "display_data",
          "data": {
            "application/javascript": [
              "window[\"9f125bd0-9f56-11e9-984b-0242ac1c0002\"] = window[\"9f119efc-9f56-11e9-984b-0242ac1c0002\"].add(window[\"9f0aaa16-9f56-11e9-984b-0242ac1c0002\"]);\n",
              "//# sourceURL=js_1d569caa90"
            ],
            "text/plain": [
              "<IPython.core.display.Javascript object>"
            ]
          },
          "metadata": {
            "tags": []
          }
        },
        {
          "output_type": "display_data",
          "data": {
            "application/javascript": [
              "window[\"9f12d236-9f56-11e9-984b-0242ac1c0002\"] = new THREE.MeshLambertMaterial({\"color\": 8421504});\n",
              "//# sourceURL=js_0d3d5dc1f9"
            ],
            "text/plain": [
              "<IPython.core.display.Javascript object>"
            ]
          },
          "metadata": {
            "tags": []
          }
        },
        {
          "output_type": "display_data",
          "data": {
            "application/javascript": [
              "window[\"9f12d236-9f56-11e9-984b-0242ac1c0002\"][\"vertexColors\"] = THREE.NoColors;\n",
              "//# sourceURL=js_9a22639bb5"
            ],
            "text/plain": [
              "<IPython.core.display.Javascript object>"
            ]
          },
          "metadata": {
            "tags": []
          }
        },
        {
          "output_type": "display_data",
          "data": {
            "application/javascript": [
              "window[\"9f139ea0-9f56-11e9-984b-0242ac1c0002\"] = new Float32Array([1.0, -1.0, 2.0, 1.0, -2.0, 2.0, 1.0, -2.0, -2.0, 1.0, -1.0, -2.0, 1.0, -1.0, -1.0, 1.0, 1.0, -1.0, 1.0, 1.0, -2.0, 1.0, 2.0, -2.0, 1.0, 2.0, 1.0, 1.0, 1.0, 1.0, 2.0, -1.0, 2.0, 2.0, -2.0, 2.0, 2.0, -2.0, -2.0, 2.0, -1.0, -2.0, 2.0, -1.0, -1.0, 2.0, 1.0, -1.0, 2.0, 1.0, -2.0, 2.0, 2.0, -2.0, 2.0, 2.0, 1.0, 2.0, 1.0, 1.0, -1.0, -2.0, 2.0, -1.0, -2.0, 1.0, -1.0, 2.0, 1.0, -1.0, 2.0, 2.0, -1.0, 1.0, 1.0, -1.0, 1.0, -2.0, -1.0, 2.0, -2.0, -2.0, -2.0, 2.0, -2.0, -2.0, 1.0, -2.0, 2.0, 1.0, -2.0, 2.0, 2.0, -2.0, 1.0, 1.0, -2.0, 1.0, -2.0, -2.0, 2.0, -2.0, -1.0, -1.0, 2.0, -1.0, -1.0, 1.0, 1.0, -1.0, 1.0, 1.0, -2.0, 1.0]);\n",
              "//# sourceURL=js_ecfa189f3e"
            ],
            "text/plain": [
              "<IPython.core.display.Javascript object>"
            ]
          },
          "metadata": {
            "tags": []
          }
        },
        {
          "output_type": "display_data",
          "data": {
            "application/javascript": [
              "window[\"9f13f2a6-9f56-11e9-984b-0242ac1c0002\"] = new Uint32Array([2, 1, 0, 3, 2, 0, 3, 4, 6, 5, 6, 4, 7, 6, 8, 9, 8, 6, 10, 11, 12, 12, 13, 10, 14, 13, 16, 16, 15, 14, 16, 17, 18, 18, 19, 16, 0, 1, 10, 1, 11, 10, 0, 14, 4, 14, 0, 10, 1, 2, 12, 1, 12, 11, 4, 14, 5, 5, 14, 15, 5, 19, 9, 19, 5, 15, 9, 19, 18, 18, 8, 9, 8, 18, 17, 17, 7, 8, 7, 12, 2, 12, 7, 17, 20, 21, 22, 22, 23, 20, 22, 24, 25, 26, 22, 25, 28, 27, 29, 30, 29, 27, 31, 29, 32, 29, 33, 32, 20, 28, 21, 28, 20, 27, 20, 30, 27, 20, 23, 30, 23, 33, 30, 33, 23, 26, 26, 25, 33, 25, 32, 33, 25, 24, 32, 24, 31, 32, 24, 21, 31, 21, 28, 31, 1, 0, 20, 20, 0, 34, 0, 35, 34, 36, 35, 0, 36, 37, 21, 35, 36, 21, 1, 21, 37, 20, 21, 1]);\n",
              "//# sourceURL=js_19f4812614"
            ],
            "text/plain": [
              "<IPython.core.display.Javascript object>"
            ]
          },
          "metadata": {
            "tags": []
          }
        },
        {
          "output_type": "display_data",
          "data": {
            "application/javascript": [
              "window[\"9f1446a2-9f56-11e9-984b-0242ac1c0002\"] = new THREE.BufferGeometry();\n",
              "//# sourceURL=js_c8c40f6490"
            ],
            "text/plain": [
              "<IPython.core.display.Javascript object>"
            ]
          },
          "metadata": {
            "tags": []
          }
        },
        {
          "output_type": "display_data",
          "data": {
            "application/javascript": [
              "window[\"9f14bf88-9f56-11e9-984b-0242ac1c0002\"] = new THREE.BufferAttribute(window[\"9f139ea0-9f56-11e9-984b-0242ac1c0002\"], 3);\n",
              "//# sourceURL=js_ed2e397fae"
            ],
            "text/plain": [
              "<IPython.core.display.Javascript object>"
            ]
          },
          "metadata": {
            "tags": []
          }
        },
        {
          "output_type": "display_data",
          "data": {
            "application/javascript": [
              "window[\"9f151352-9f56-11e9-984b-0242ac1c0002\"] = window[\"9f1446a2-9f56-11e9-984b-0242ac1c0002\"].addAttribute(\"position\", window[\"9f14bf88-9f56-11e9-984b-0242ac1c0002\"]);\n",
              "//# sourceURL=js_b2ee299fd0"
            ],
            "text/plain": [
              "<IPython.core.display.Javascript object>"
            ]
          },
          "metadata": {
            "tags": []
          }
        },
        {
          "output_type": "display_data",
          "data": {
            "application/javascript": [
              "window[\"9f158ddc-9f56-11e9-984b-0242ac1c0002\"] = new THREE.BufferAttribute(window[\"9f13f2a6-9f56-11e9-984b-0242ac1c0002\"], 1);\n",
              "//# sourceURL=js_46e74d8e5b"
            ],
            "text/plain": [
              "<IPython.core.display.Javascript object>"
            ]
          },
          "metadata": {
            "tags": []
          }
        },
        {
          "output_type": "display_data",
          "data": {
            "application/javascript": [
              "window[\"9f15e5c0-9f56-11e9-984b-0242ac1c0002\"] = window[\"9f1446a2-9f56-11e9-984b-0242ac1c0002\"].setIndex(window[\"9f158ddc-9f56-11e9-984b-0242ac1c0002\"]);\n",
              "//# sourceURL=js_953ae9bf28"
            ],
            "text/plain": [
              "<IPython.core.display.Javascript object>"
            ]
          },
          "metadata": {
            "tags": []
          }
        },
        {
          "output_type": "display_data",
          "data": {
            "application/javascript": [
              "window[\"9f165e24-9f56-11e9-984b-0242ac1c0002\"] = window[\"9f1446a2-9f56-11e9-984b-0242ac1c0002\"].computeVertexNormals();\n",
              "//# sourceURL=js_941faf6c4b"
            ],
            "text/plain": [
              "<IPython.core.display.Javascript object>"
            ]
          },
          "metadata": {
            "tags": []
          }
        },
        {
          "output_type": "display_data",
          "data": {
            "application/javascript": [
              "window[\"9f16b400-9f56-11e9-984b-0242ac1c0002\"] = new THREE.Mesh(window[\"9f1446a2-9f56-11e9-984b-0242ac1c0002\"], window[\"9f0b1d02-9f56-11e9-984b-0242ac1c0002\"]);\n",
              "//# sourceURL=js_402e2c8bbb"
            ],
            "text/plain": [
              "<IPython.core.display.Javascript object>"
            ]
          },
          "metadata": {
            "tags": []
          }
        },
        {
          "output_type": "display_data",
          "data": {
            "application/javascript": [
              "window[\"9f172cb4-9f56-11e9-984b-0242ac1c0002\"] = window[\"9f119efc-9f56-11e9-984b-0242ac1c0002\"].add(window[\"9f16b400-9f56-11e9-984b-0242ac1c0002\"]);\n",
              "//# sourceURL=js_e72b634b7b"
            ],
            "text/plain": [
              "<IPython.core.display.Javascript object>"
            ]
          },
          "metadata": {
            "tags": []
          }
        },
        {
          "output_type": "display_data",
          "data": {
            "application/javascript": [
              "window[\"9f12d236-9f56-11e9-984b-0242ac1c0002\"][\"vertexColors\"] = THREE.NoColors;\n",
              "//# sourceURL=js_9a22639bb5"
            ],
            "text/plain": [
              "<IPython.core.display.Javascript object>"
            ]
          },
          "metadata": {
            "tags": []
          }
        },
        {
          "output_type": "display_data",
          "data": {
            "application/javascript": [
              "window[\"9f17f9c8-9f56-11e9-984b-0242ac1c0002\"] = new Float32Array([0.2936386168003082, 3.8304405212402344, -1.8967227935791016, 0.7747746706008911, 4.511592388153076, -1.3448710441589355, 2.8893654346466064, 1.6011770963668823, 0.40383923053741455, 2.4082295894622803, 0.9200252890586853, -0.1480124592781067, 1.8795816898345947, 1.6476291418075562, -0.5851900577545166, 0.9173097610473633, 0.28532564640045166, -1.6888936758041382, 1.4459574222564697, -0.44227802753448486, -1.251716136932373, 0.9648213386535645, -1.1234298944473267, -1.803567886352539, -0.6211216449737549, 1.0593817234039307, -3.115100622177124, -0.13998571038246155, 1.740533471107483, -2.563248872756958, 0.9929523468017578, 3.911834239959717, -2.6068882942199707, 1.474088430404663, 4.592986106872559, -2.0550365447998047, 3.588679075241089, 1.6825703382492065, -0.3063264489173889, 3.1075432300567627, 1.0014185905456543, -0.8581782579421997, 2.5788955688476562, 1.72902250289917, -1.2953557968139648, 1.6166235208511353, 0.36671900749206543, -2.399059295654297, 2.1452713012695312, -0.36088478565216064, -1.9618819952011108, 1.6641353368759155, -1.0420366525650024, -2.5137336254119873, 0.07819220423698425, 1.1407749652862549, -3.825266122817993, 0.5593281984329224, 1.8219267129898071, -3.273414373397827, -0.6238528490066528, 4.348805904388428, 0.07546043395996094, -0.095205157995224, 3.621201992034912, 0.5126380920410156, -2.019749164581299, 0.8965950012207031, -1.6947691440582275, -2.5483968257904053, 1.6241987943649292, -2.131946563720703, -1.5386130809783936, 1.5777467489242554, -1.1429173946380615, 0.04732993245124817, -0.6050647497177124, 0.16861534118652344, -0.43380609154701233, -1.2862166166305542, -0.38323643803596497, -1.3231667280197144, 4.2674126625061035, 0.7856261730194092, -0.7945189476013184, 3.539808750152588, 1.2228038311004639, -2.7190630435943604, 0.8152016401290894, -0.9846034049987793, -3.2477104663848877, 1.542805552482605, -1.421781063079834, -2.237926959991455, 1.4963533878326416, -0.43275171518325806, -0.6519838571548462, -0.6864582300186157, 0.8787809610366821, -1.133119821548462, -1.3676100969314575, 0.3269292116165161, -1.1049888134002686, 3.667654037475586, -0.47639137506484985, -0.5763412714004517, 2.9400501251220703, -0.03921377658843994, 0.8222863674163818, 3.102837085723877, -1.4595451354980469, 1.303422451019287, 3.7839884757995605, -0.9076933264732361]);\n",
              "//# sourceURL=js_b30f5b8ae5"
            ],
            "text/plain": [
              "<IPython.core.display.Javascript object>"
            ]
          },
          "metadata": {
            "tags": []
          }
        },
        {
          "output_type": "display_data",
          "data": {
            "application/javascript": [
              "window[\"9f1850d0-9f56-11e9-984b-0242ac1c0002\"] = new Uint32Array([2, 1, 0, 3, 2, 0, 3, 4, 6, 5, 6, 4, 7, 6, 8, 9, 8, 6, 10, 11, 12, 12, 13, 10, 14, 13, 16, 16, 15, 14, 16, 17, 18, 18, 19, 16, 0, 1, 10, 1, 11, 10, 0, 14, 4, 14, 0, 10, 1, 2, 12, 1, 12, 11, 4, 14, 5, 5, 14, 15, 5, 19, 9, 19, 5, 15, 9, 19, 18, 18, 8, 9, 8, 18, 17, 17, 7, 8, 7, 12, 2, 12, 7, 17, 20, 21, 22, 22, 23, 20, 22, 24, 25, 26, 22, 25, 28, 27, 29, 30, 29, 27, 31, 29, 32, 29, 33, 32, 20, 28, 21, 28, 20, 27, 20, 30, 27, 20, 23, 30, 23, 33, 30, 33, 23, 26, 26, 25, 33, 25, 32, 33, 25, 24, 32, 24, 31, 32, 24, 21, 31, 21, 28, 31, 1, 0, 20, 20, 0, 34, 0, 35, 34, 36, 35, 0, 36, 37, 21, 35, 36, 21, 1, 21, 37, 20, 21, 1]);\n",
              "//# sourceURL=js_395b1cf6da"
            ],
            "text/plain": [
              "<IPython.core.display.Javascript object>"
            ]
          },
          "metadata": {
            "tags": []
          }
        },
        {
          "output_type": "display_data",
          "data": {
            "application/javascript": [
              "window[\"9f18c682-9f56-11e9-984b-0242ac1c0002\"] = new THREE.BufferGeometry();\n",
              "//# sourceURL=js_7e2e652812"
            ],
            "text/plain": [
              "<IPython.core.display.Javascript object>"
            ]
          },
          "metadata": {
            "tags": []
          }
        },
        {
          "output_type": "display_data",
          "data": {
            "application/javascript": [
              "window[\"9f190bce-9f56-11e9-984b-0242ac1c0002\"] = new THREE.BufferAttribute(window[\"9f17f9c8-9f56-11e9-984b-0242ac1c0002\"], 3);\n",
              "//# sourceURL=js_abbaf61509"
            ],
            "text/plain": [
              "<IPython.core.display.Javascript object>"
            ]
          },
          "metadata": {
            "tags": []
          }
        },
        {
          "output_type": "display_data",
          "data": {
            "application/javascript": [
              "window[\"9f198388-9f56-11e9-984b-0242ac1c0002\"] = window[\"9f18c682-9f56-11e9-984b-0242ac1c0002\"].addAttribute(\"position\", window[\"9f190bce-9f56-11e9-984b-0242ac1c0002\"]);\n",
              "//# sourceURL=js_a5c77fb16f"
            ],
            "text/plain": [
              "<IPython.core.display.Javascript object>"
            ]
          },
          "metadata": {
            "tags": []
          }
        },
        {
          "output_type": "display_data",
          "data": {
            "application/javascript": [
              "window[\"9f19d716-9f56-11e9-984b-0242ac1c0002\"] = new THREE.BufferAttribute(window[\"9f1850d0-9f56-11e9-984b-0242ac1c0002\"], 1);\n",
              "//# sourceURL=js_85a9e94118"
            ],
            "text/plain": [
              "<IPython.core.display.Javascript object>"
            ]
          },
          "metadata": {
            "tags": []
          }
        },
        {
          "output_type": "display_data",
          "data": {
            "application/javascript": [
              "window[\"9f1a533a-9f56-11e9-984b-0242ac1c0002\"] = window[\"9f18c682-9f56-11e9-984b-0242ac1c0002\"].setIndex(window[\"9f19d716-9f56-11e9-984b-0242ac1c0002\"]);\n",
              "//# sourceURL=js_860210658a"
            ],
            "text/plain": [
              "<IPython.core.display.Javascript object>"
            ]
          },
          "metadata": {
            "tags": []
          }
        },
        {
          "output_type": "display_data",
          "data": {
            "application/javascript": [
              "window[\"9f1aa6b4-9f56-11e9-984b-0242ac1c0002\"] = window[\"9f18c682-9f56-11e9-984b-0242ac1c0002\"].computeVertexNormals();\n",
              "//# sourceURL=js_7f75a9c8e4"
            ],
            "text/plain": [
              "<IPython.core.display.Javascript object>"
            ]
          },
          "metadata": {
            "tags": []
          }
        },
        {
          "output_type": "display_data",
          "data": {
            "application/javascript": [
              "window[\"9f1afc04-9f56-11e9-984b-0242ac1c0002\"] = new THREE.Mesh(window[\"9f18c682-9f56-11e9-984b-0242ac1c0002\"], window[\"9f0b7860-9f56-11e9-984b-0242ac1c0002\"]);\n",
              "//# sourceURL=js_38e05da602"
            ],
            "text/plain": [
              "<IPython.core.display.Javascript object>"
            ]
          },
          "metadata": {
            "tags": []
          }
        },
        {
          "output_type": "display_data",
          "data": {
            "application/javascript": [
              "window[\"9f1b77c4-9f56-11e9-984b-0242ac1c0002\"] = window[\"9f119efc-9f56-11e9-984b-0242ac1c0002\"].add(window[\"9f1afc04-9f56-11e9-984b-0242ac1c0002\"]);\n",
              "//# sourceURL=js_8788976cb4"
            ],
            "text/plain": [
              "<IPython.core.display.Javascript object>"
            ]
          },
          "metadata": {
            "tags": []
          }
        },
        {
          "output_type": "display_data",
          "data": {
            "text/plain": [
              "<IPython.core.display.HTML object>"
            ],
            "text/html": [
              "<script src='https://www.gstatic.com/external_hosted/threejs-r98/three.min.js'></script>"
            ]
          },
          "metadata": {
            "tags": []
          }
        },
        {
          "output_type": "display_data",
          "data": {
            "text/plain": [
              "<IPython.core.display.HTML object>"
            ],
            "text/html": [
              "<script src='https://www.gstatic.com/external_hosted/threejs-r98/examples/js/controls/OrbitControls.js'></script>"
            ]
          },
          "metadata": {
            "tags": []
          }
        },
        {
          "output_type": "display_data",
          "data": {
            "application/javascript": [
              "window[\"9fbc750c-9f56-11e9-984b-0242ac1c0002\"] = new THREE.PointLight(8421504);\n",
              "//# sourceURL=js_4889267302"
            ],
            "text/plain": [
              "<IPython.core.display.Javascript object>"
            ]
          },
          "metadata": {
            "tags": []
          }
        },
        {
          "output_type": "display_data",
          "data": {
            "application/javascript": [
              "window[\"9fbce744-9f56-11e9-984b-0242ac1c0002\"] = window[\"9fbc750c-9f56-11e9-984b-0242ac1c0002\"].position.set(10.0, 10.0, 10.0);\n",
              "//# sourceURL=js_933ca50a15"
            ],
            "text/plain": [
              "<IPython.core.display.Javascript object>"
            ]
          },
          "metadata": {
            "tags": []
          }
        },
        {
          "output_type": "display_data",
          "data": {
            "application/javascript": [
              "window[\"9fbd9d7e-9f56-11e9-984b-0242ac1c0002\"] = new THREE.AmbientLight(8421504);\n",
              "//# sourceURL=js_f8db7d60a4"
            ],
            "text/plain": [
              "<IPython.core.display.Javascript object>"
            ]
          },
          "metadata": {
            "tags": []
          }
        },
        {
          "output_type": "display_data",
          "data": {
            "application/javascript": [
              "window[\"9fbdf774-9f56-11e9-984b-0242ac1c0002\"] = new THREE.MeshLambertMaterial({\"color\": 16775885});\n",
              "//# sourceURL=js_079ff42a5e"
            ],
            "text/plain": [
              "<IPython.core.display.Javascript object>"
            ]
          },
          "metadata": {
            "tags": []
          }
        },
        {
          "output_type": "display_data",
          "data": {
            "application/javascript": [
              "window[\"9fbe6cfe-9f56-11e9-984b-0242ac1c0002\"] = new THREE.MeshLambertMaterial({\"color\": 15794160});\n",
              "//# sourceURL=js_7e05d64e27"
            ],
            "text/plain": [
              "<IPython.core.display.Javascript object>"
            ]
          },
          "metadata": {
            "tags": []
          }
        },
        {
          "output_type": "display_data",
          "data": {
            "text/plain": [
              "<IPython.core.display.HTML object>"
            ],
            "text/html": [
              "<script src='https://www.gstatic.com/external_hosted/threejs-r98/three.min.js'></script>"
            ]
          },
          "metadata": {
            "tags": []
          }
        },
        {
          "output_type": "display_data",
          "data": {
            "text/plain": [
              "<IPython.core.display.HTML object>"
            ],
            "text/html": [
              "<script src='https://www.gstatic.com/external_hosted/threejs-r98/examples/js/controls/OrbitControls.js'></script>"
            ]
          },
          "metadata": {
            "tags": []
          }
        },
        {
          "output_type": "display_data",
          "data": {
            "application/javascript": [
              "window[\"9fbfa3d0-9f56-11e9-984b-0242ac1c0002\"] = new THREE.PerspectiveCamera(30, 1.0, 0.01, 1000.0);\n",
              "//# sourceURL=js_a664db4764"
            ],
            "text/plain": [
              "<IPython.core.display.Javascript object>"
            ]
          },
          "metadata": {
            "tags": []
          }
        },
        {
          "output_type": "display_data",
          "data": {
            "application/javascript": [
              "window[\"9fc01a04-9f56-11e9-984b-0242ac1c0002\"] = window[\"9fbfa3d0-9f56-11e9-984b-0242ac1c0002\"].position.set(10.0, 10.0, 10.0);\n",
              "//# sourceURL=js_02488948b4"
            ],
            "text/plain": [
              "<IPython.core.display.Javascript object>"
            ]
          },
          "metadata": {
            "tags": []
          }
        },
        {
          "output_type": "display_data",
          "data": {
            "application/javascript": [
              "window[\"9fc08e44-9f56-11e9-984b-0242ac1c0002\"] = new THREE.OrbitControls(window[\"9fbfa3d0-9f56-11e9-984b-0242ac1c0002\"]);\n",
              "//# sourceURL=js_2d0b7b1924"
            ],
            "text/plain": [
              "<IPython.core.display.Javascript object>"
            ]
          },
          "metadata": {
            "tags": []
          }
        },
        {
          "output_type": "display_data",
          "data": {
            "application/javascript": [
              "window[\"9fc08e44-9f56-11e9-984b-0242ac1c0002\"].enableZoom = false;\n",
              "//# sourceURL=js_07c54ca255"
            ],
            "text/plain": [
              "<IPython.core.display.Javascript object>"
            ]
          },
          "metadata": {
            "tags": []
          }
        },
        {
          "output_type": "display_data",
          "data": {
            "text/plain": [
              "<IPython.core.display.HTML object>"
            ],
            "text/html": [
              "<script src='https://www.gstatic.com/external_hosted/threejs-r98/three.min.js'></script>"
            ]
          },
          "metadata": {
            "tags": []
          }
        },
        {
          "output_type": "display_data",
          "data": {
            "text/plain": [
              "<IPython.core.display.HTML object>"
            ],
            "text/html": [
              "<script src='https://www.gstatic.com/external_hosted/threejs-r98/examples/js/controls/OrbitControls.js'></script>"
            ]
          },
          "metadata": {
            "tags": []
          }
        },
        {
          "output_type": "display_data",
          "data": {
            "application/javascript": [
              "window[\"9fc24ad6-9f56-11e9-984b-0242ac1c0002\"] = new THREE.WebGLRenderer({\"antialias\": true});\n",
              "//# sourceURL=js_1aa9253ed6"
            ],
            "text/plain": [
              "<IPython.core.display.Javascript object>"
            ]
          },
          "metadata": {
            "tags": []
          }
        },
        {
          "output_type": "display_data",
          "data": {
            "application/javascript": [
              "window[\"9fc2a9c2-9f56-11e9-984b-0242ac1c0002\"] = window[\"9fc24ad6-9f56-11e9-984b-0242ac1c0002\"].setSize(400, 400);\n",
              "//# sourceURL=js_c1bcba446e"
            ],
            "text/plain": [
              "<IPython.core.display.Javascript object>"
            ]
          },
          "metadata": {
            "tags": []
          }
        },
        {
          "output_type": "display_data",
          "data": {
            "application/javascript": [
              "window[\"9fc2f468-9f56-11e9-984b-0242ac1c0002\"] = new THREE.Color(\"rgb(0, 0, 0)\");\n",
              "//# sourceURL=js_2cab46a046"
            ],
            "text/plain": [
              "<IPython.core.display.Javascript object>"
            ]
          },
          "metadata": {
            "tags": []
          }
        },
        {
          "output_type": "display_data",
          "data": {
            "application/javascript": [
              "window[\"9fc347b0-9f56-11e9-984b-0242ac1c0002\"] = window[\"9fc24ad6-9f56-11e9-984b-0242ac1c0002\"].setClearColor(window[\"9fc2f468-9f56-11e9-984b-0242ac1c0002\"]);\n",
              "//# sourceURL=js_92520f7954"
            ],
            "text/plain": [
              "<IPython.core.display.Javascript object>"
            ]
          },
          "metadata": {
            "tags": []
          }
        },
        {
          "output_type": "display_data",
          "data": {
            "application/javascript": [
              "window[\"9fc3a264-9f56-11e9-984b-0242ac1c0002\"] = window[\"9fc24ad6-9f56-11e9-984b-0242ac1c0002\"].clear();\n",
              "//# sourceURL=js_318420bb76"
            ],
            "text/plain": [
              "<IPython.core.display.Javascript object>"
            ]
          },
          "metadata": {
            "tags": []
          }
        },
        {
          "output_type": "display_data",
          "data": {
            "application/javascript": [
              "window[\"9fc3ee5e-9f56-11e9-984b-0242ac1c0002\"] = document.body.appendChild(window[\"9fc24ad6-9f56-11e9-984b-0242ac1c0002\"].domElement);\n",
              "//# sourceURL=js_b0cfadcbbe"
            ],
            "text/plain": [
              "<IPython.core.display.Javascript object>"
            ]
          },
          "metadata": {
            "tags": []
          }
        },
        {
          "output_type": "display_data",
          "data": {
            "application/javascript": [
              "window[\"9fc43fa8-9f56-11e9-984b-0242ac1c0002\"] = new THREE.Scene();\n",
              "//# sourceURL=js_fea0a0daf5"
            ],
            "text/plain": [
              "<IPython.core.display.Javascript object>"
            ]
          },
          "metadata": {
            "tags": []
          }
        },
        {
          "output_type": "display_data",
          "data": {
            "application/javascript": [
              "window[\"9fc48a62-9f56-11e9-984b-0242ac1c0002\"] = window[\"9fc43fa8-9f56-11e9-984b-0242ac1c0002\"].add(window[\"9fbc750c-9f56-11e9-984b-0242ac1c0002\"]);\n",
              "//# sourceURL=js_4982056096"
            ],
            "text/plain": [
              "<IPython.core.display.Javascript object>"
            ]
          },
          "metadata": {
            "tags": []
          }
        },
        {
          "output_type": "display_data",
          "data": {
            "application/javascript": [
              "window[\"9fc4e7f0-9f56-11e9-984b-0242ac1c0002\"] = window[\"9fc43fa8-9f56-11e9-984b-0242ac1c0002\"].add(window[\"9fbd9d7e-9f56-11e9-984b-0242ac1c0002\"]);\n",
              "//# sourceURL=js_43f59e8273"
            ],
            "text/plain": [
              "<IPython.core.display.Javascript object>"
            ]
          },
          "metadata": {
            "tags": []
          }
        },
        {
          "output_type": "display_data",
          "data": {
            "application/javascript": [
              "window[\"9fc53d5e-9f56-11e9-984b-0242ac1c0002\"] = new THREE.MeshLambertMaterial({\"color\": 8421504});\n",
              "//# sourceURL=js_596ab9cebd"
            ],
            "text/plain": [
              "<IPython.core.display.Javascript object>"
            ]
          },
          "metadata": {
            "tags": []
          }
        },
        {
          "output_type": "display_data",
          "data": {
            "application/javascript": [
              "window[\"9fc53d5e-9f56-11e9-984b-0242ac1c0002\"][\"vertexColors\"] = THREE.NoColors;\n",
              "//# sourceURL=js_6d40b29d35"
            ],
            "text/plain": [
              "<IPython.core.display.Javascript object>"
            ]
          },
          "metadata": {
            "tags": []
          }
        },
        {
          "output_type": "display_data",
          "data": {
            "application/javascript": [
              "window[\"9fc5e074-9f56-11e9-984b-0242ac1c0002\"] = new Float32Array([1.0, -1.0, 2.0, 1.0, -2.0, 2.0, 1.0, -2.0, -2.0, 1.0, -1.0, -2.0, 1.0, -1.0, -1.0, 1.0, 1.0, -1.0, 1.0, 1.0, -2.0, 1.0, 2.0, -2.0, 1.0, 2.0, 1.0, 1.0, 1.0, 1.0, 2.0, -1.0, 2.0, 2.0, -2.0, 2.0, 2.0, -2.0, -2.0, 2.0, -1.0, -2.0, 2.0, -1.0, -1.0, 2.0, 1.0, -1.0, 2.0, 1.0, -2.0, 2.0, 2.0, -2.0, 2.0, 2.0, 1.0, 2.0, 1.0, 1.0, -1.0, -2.0, 2.0, -1.0, -2.0, 1.0, -1.0, 2.0, 1.0, -1.0, 2.0, 2.0, -1.0, 1.0, 1.0, -1.0, 1.0, -2.0, -1.0, 2.0, -2.0, -2.0, -2.0, 2.0, -2.0, -2.0, 1.0, -2.0, 2.0, 1.0, -2.0, 2.0, 2.0, -2.0, 1.0, 1.0, -2.0, 1.0, -2.0, -2.0, 2.0, -2.0, -1.0, -1.0, 2.0, -1.0, -1.0, 1.0, 1.0, -1.0, 1.0, 1.0, -2.0, 1.0]);\n",
              "//# sourceURL=js_7079195ff9"
            ],
            "text/plain": [
              "<IPython.core.display.Javascript object>"
            ]
          },
          "metadata": {
            "tags": []
          }
        },
        {
          "output_type": "display_data",
          "data": {
            "application/javascript": [
              "window[\"9fc63560-9f56-11e9-984b-0242ac1c0002\"] = new Uint32Array([2, 1, 0, 3, 2, 0, 3, 4, 6, 5, 6, 4, 7, 6, 8, 9, 8, 6, 10, 11, 12, 12, 13, 10, 14, 13, 16, 16, 15, 14, 16, 17, 18, 18, 19, 16, 0, 1, 10, 1, 11, 10, 0, 14, 4, 14, 0, 10, 1, 2, 12, 1, 12, 11, 4, 14, 5, 5, 14, 15, 5, 19, 9, 19, 5, 15, 9, 19, 18, 18, 8, 9, 8, 18, 17, 17, 7, 8, 7, 12, 2, 12, 7, 17, 20, 21, 22, 22, 23, 20, 22, 24, 25, 26, 22, 25, 28, 27, 29, 30, 29, 27, 31, 29, 32, 29, 33, 32, 20, 28, 21, 28, 20, 27, 20, 30, 27, 20, 23, 30, 23, 33, 30, 33, 23, 26, 26, 25, 33, 25, 32, 33, 25, 24, 32, 24, 31, 32, 24, 21, 31, 21, 28, 31, 1, 0, 20, 20, 0, 34, 0, 35, 34, 36, 35, 0, 36, 37, 21, 35, 36, 21, 1, 21, 37, 20, 21, 1]);\n",
              "//# sourceURL=js_ff0352962b"
            ],
            "text/plain": [
              "<IPython.core.display.Javascript object>"
            ]
          },
          "metadata": {
            "tags": []
          }
        },
        {
          "output_type": "display_data",
          "data": {
            "application/javascript": [
              "window[\"9fc67cb4-9f56-11e9-984b-0242ac1c0002\"] = new THREE.BufferGeometry();\n",
              "//# sourceURL=js_aab98b6cdb"
            ],
            "text/plain": [
              "<IPython.core.display.Javascript object>"
            ]
          },
          "metadata": {
            "tags": []
          }
        },
        {
          "output_type": "display_data",
          "data": {
            "application/javascript": [
              "window[\"9fc6cf34-9f56-11e9-984b-0242ac1c0002\"] = new THREE.BufferAttribute(window[\"9fc5e074-9f56-11e9-984b-0242ac1c0002\"], 3);\n",
              "//# sourceURL=js_41671504a9"
            ],
            "text/plain": [
              "<IPython.core.display.Javascript object>"
            ]
          },
          "metadata": {
            "tags": []
          }
        },
        {
          "output_type": "display_data",
          "data": {
            "application/javascript": [
              "window[\"9fc7194e-9f56-11e9-984b-0242ac1c0002\"] = window[\"9fc67cb4-9f56-11e9-984b-0242ac1c0002\"].addAttribute(\"position\", window[\"9fc6cf34-9f56-11e9-984b-0242ac1c0002\"]);\n",
              "//# sourceURL=js_1f17bd12ee"
            ],
            "text/plain": [
              "<IPython.core.display.Javascript object>"
            ]
          },
          "metadata": {
            "tags": []
          }
        },
        {
          "output_type": "display_data",
          "data": {
            "application/javascript": [
              "window[\"9fc762c8-9f56-11e9-984b-0242ac1c0002\"] = new THREE.BufferAttribute(window[\"9fc63560-9f56-11e9-984b-0242ac1c0002\"], 1);\n",
              "//# sourceURL=js_123c57e028"
            ],
            "text/plain": [
              "<IPython.core.display.Javascript object>"
            ]
          },
          "metadata": {
            "tags": []
          }
        },
        {
          "output_type": "display_data",
          "data": {
            "application/javascript": [
              "window[\"9fc7aabc-9f56-11e9-984b-0242ac1c0002\"] = window[\"9fc67cb4-9f56-11e9-984b-0242ac1c0002\"].setIndex(window[\"9fc762c8-9f56-11e9-984b-0242ac1c0002\"]);\n",
              "//# sourceURL=js_cc52eeab2f"
            ],
            "text/plain": [
              "<IPython.core.display.Javascript object>"
            ]
          },
          "metadata": {
            "tags": []
          }
        },
        {
          "output_type": "display_data",
          "data": {
            "application/javascript": [
              "window[\"9fc7f2a6-9f56-11e9-984b-0242ac1c0002\"] = window[\"9fc67cb4-9f56-11e9-984b-0242ac1c0002\"].computeVertexNormals();\n",
              "//# sourceURL=js_7cdb89accc"
            ],
            "text/plain": [
              "<IPython.core.display.Javascript object>"
            ]
          },
          "metadata": {
            "tags": []
          }
        },
        {
          "output_type": "display_data",
          "data": {
            "application/javascript": [
              "window[\"9fc83d24-9f56-11e9-984b-0242ac1c0002\"] = new THREE.Mesh(window[\"9fc67cb4-9f56-11e9-984b-0242ac1c0002\"], window[\"9fbdf774-9f56-11e9-984b-0242ac1c0002\"]);\n",
              "//# sourceURL=js_bf6f2d250e"
            ],
            "text/plain": [
              "<IPython.core.display.Javascript object>"
            ]
          },
          "metadata": {
            "tags": []
          }
        },
        {
          "output_type": "display_data",
          "data": {
            "application/javascript": [
              "window[\"9fc88e50-9f56-11e9-984b-0242ac1c0002\"] = window[\"9fc43fa8-9f56-11e9-984b-0242ac1c0002\"].add(window[\"9fc83d24-9f56-11e9-984b-0242ac1c0002\"]);\n",
              "//# sourceURL=js_89e9ee1b03"
            ],
            "text/plain": [
              "<IPython.core.display.Javascript object>"
            ]
          },
          "metadata": {
            "tags": []
          }
        },
        {
          "output_type": "display_data",
          "data": {
            "application/javascript": [
              "window[\"9fc53d5e-9f56-11e9-984b-0242ac1c0002\"][\"vertexColors\"] = THREE.NoColors;\n",
              "//# sourceURL=js_6d40b29d35"
            ],
            "text/plain": [
              "<IPython.core.display.Javascript object>"
            ]
          },
          "metadata": {
            "tags": []
          }
        },
        {
          "output_type": "display_data",
          "data": {
            "application/javascript": [
              "window[\"9fc921f8-9f56-11e9-984b-0242ac1c0002\"] = new Float32Array([0.9549208879470825, -0.9957232475280762, 2.0325236320495605, 0.9468622803688049, -2.0017611980438232, 2.0392141342163086, 1.0181230306625366, -2.029090642929077, -1.9844324588775635, 1.026181936264038, -1.0230525732040405, -1.991123080253601, 1.008366584777832, -1.016220211982727, -0.9852112531661987, 1.0244841575622559, 0.9958559274673462, -0.9985918998718262, 1.042299509048462, 0.9890234470367432, -2.0045037269592285, 1.0503582954406738, 1.9950617551803589, -2.0111939907073975, 0.9969125986099243, 2.0155584812164307, 1.0065410137176514, 0.9888538718223572, 1.009520411491394, 1.0132315158843994, 1.9608235359191895, -1.003662347793579, 2.0503926277160645, 1.9527645111083984, -2.0097007751464844, 2.0570833683013916, 2.0240254402160645, -2.037029504776001, -1.9665634632110596, 2.0320844650268555, -1.0309913158416748, -1.9732539653778076, 2.0142693519592285, -1.02415931224823, -0.9673424363136292, 2.0303869247436523, 0.9879170656204224, -0.9807230830192566, 2.0482022762298584, 0.9810847043991089, -1.9866344928741455, 2.0562610626220703, 1.9871230125427246, -1.993325114250183, 2.0028152465820312, 2.0076193809509277, 1.0244096517562866, 1.9947562217712402, 1.0015813112258911, 1.0311002731323242, -1.0649428367614746, -1.9858835935592651, 2.003476142883301, -1.0471278429031372, -1.9927160739898682, 0.9975643157958984, -1.014892578125, 2.0314362049102783, 0.9708030223846436, -1.032707929611206, 2.0382683277130127, 1.9767143726348877, -1.0229512453079224, 1.0253982543945312, 0.9774933457374573, -0.9695056676864624, 1.00490140914917, -2.0402414798736572, -0.9614468216896057, 2.010939598083496, -2.0469319820404053, -2.070845603942871, -1.9779448509216309, 1.9856071472167969, -2.053030490875244, -1.9847773313522339, 0.9796956181526184, -2.0207951068878174, 2.0393753051757812, 0.9529340267181396, -2.0386102199554443, 2.0462074279785156, 1.9588457345962524, -2.0288538932800293, 1.0333373546600342, 0.9596244096755981, -1.9754083156585693, 1.0128405094146729, -2.058110475540161, -1.9673494100570679, 2.018878698348999, -2.0648012161254883, -1.0568840503692627, -0.9798454642295837, 1.9967855215072632, -1.0390690565109253, -0.9866778254508972, 0.990874171257019, 0.972736120223999, -1.0025559663772583, 1.0266122817993164, 0.9646772742271423, -2.008593797683716, 1.0333021879196167]);\n",
              "//# sourceURL=js_e8ba254fae"
            ],
            "text/plain": [
              "<IPython.core.display.Javascript object>"
            ]
          },
          "metadata": {
            "tags": []
          }
        },
        {
          "output_type": "display_data",
          "data": {
            "application/javascript": [
              "window[\"9fc96e60-9f56-11e9-984b-0242ac1c0002\"] = new Uint32Array([2, 1, 0, 3, 2, 0, 3, 4, 6, 5, 6, 4, 7, 6, 8, 9, 8, 6, 10, 11, 12, 12, 13, 10, 14, 13, 16, 16, 15, 14, 16, 17, 18, 18, 19, 16, 0, 1, 10, 1, 11, 10, 0, 14, 4, 14, 0, 10, 1, 2, 12, 1, 12, 11, 4, 14, 5, 5, 14, 15, 5, 19, 9, 19, 5, 15, 9, 19, 18, 18, 8, 9, 8, 18, 17, 17, 7, 8, 7, 12, 2, 12, 7, 17, 20, 21, 22, 22, 23, 20, 22, 24, 25, 26, 22, 25, 28, 27, 29, 30, 29, 27, 31, 29, 32, 29, 33, 32, 20, 28, 21, 28, 20, 27, 20, 30, 27, 20, 23, 30, 23, 33, 30, 33, 23, 26, 26, 25, 33, 25, 32, 33, 25, 24, 32, 24, 31, 32, 24, 21, 31, 21, 28, 31, 1, 0, 20, 20, 0, 34, 0, 35, 34, 36, 35, 0, 36, 37, 21, 35, 36, 21, 1, 21, 37, 20, 21, 1]);\n",
              "//# sourceURL=js_a0ecb583dc"
            ],
            "text/plain": [
              "<IPython.core.display.Javascript object>"
            ]
          },
          "metadata": {
            "tags": []
          }
        },
        {
          "output_type": "display_data",
          "data": {
            "application/javascript": [
              "window[\"9fc9b906-9f56-11e9-984b-0242ac1c0002\"] = new THREE.BufferGeometry();\n",
              "//# sourceURL=js_d659ff5aa4"
            ],
            "text/plain": [
              "<IPython.core.display.Javascript object>"
            ]
          },
          "metadata": {
            "tags": []
          }
        },
        {
          "output_type": "display_data",
          "data": {
            "application/javascript": [
              "window[\"9fca019a-9f56-11e9-984b-0242ac1c0002\"] = new THREE.BufferAttribute(window[\"9fc921f8-9f56-11e9-984b-0242ac1c0002\"], 3);\n",
              "//# sourceURL=js_b13221b307"
            ],
            "text/plain": [
              "<IPython.core.display.Javascript object>"
            ]
          },
          "metadata": {
            "tags": []
          }
        },
        {
          "output_type": "display_data",
          "data": {
            "application/javascript": [
              "window[\"9fca49b6-9f56-11e9-984b-0242ac1c0002\"] = window[\"9fc9b906-9f56-11e9-984b-0242ac1c0002\"].addAttribute(\"position\", window[\"9fca019a-9f56-11e9-984b-0242ac1c0002\"]);\n",
              "//# sourceURL=js_18d3b9292d"
            ],
            "text/plain": [
              "<IPython.core.display.Javascript object>"
            ]
          },
          "metadata": {
            "tags": []
          }
        },
        {
          "output_type": "display_data",
          "data": {
            "application/javascript": [
              "window[\"9fca90ce-9f56-11e9-984b-0242ac1c0002\"] = new THREE.BufferAttribute(window[\"9fc96e60-9f56-11e9-984b-0242ac1c0002\"], 1);\n",
              "//# sourceURL=js_a1821de7e7"
            ],
            "text/plain": [
              "<IPython.core.display.Javascript object>"
            ]
          },
          "metadata": {
            "tags": []
          }
        },
        {
          "output_type": "display_data",
          "data": {
            "application/javascript": [
              "window[\"9fcad818-9f56-11e9-984b-0242ac1c0002\"] = window[\"9fc9b906-9f56-11e9-984b-0242ac1c0002\"].setIndex(window[\"9fca90ce-9f56-11e9-984b-0242ac1c0002\"]);\n",
              "//# sourceURL=js_777642ad16"
            ],
            "text/plain": [
              "<IPython.core.display.Javascript object>"
            ]
          },
          "metadata": {
            "tags": []
          }
        },
        {
          "output_type": "display_data",
          "data": {
            "application/javascript": [
              "window[\"9fcb262e-9f56-11e9-984b-0242ac1c0002\"] = window[\"9fc9b906-9f56-11e9-984b-0242ac1c0002\"].computeVertexNormals();\n",
              "//# sourceURL=js_8ed0c8c6c3"
            ],
            "text/plain": [
              "<IPython.core.display.Javascript object>"
            ]
          },
          "metadata": {
            "tags": []
          }
        },
        {
          "output_type": "display_data",
          "data": {
            "application/javascript": [
              "window[\"9fcb705c-9f56-11e9-984b-0242ac1c0002\"] = new THREE.Mesh(window[\"9fc9b906-9f56-11e9-984b-0242ac1c0002\"], window[\"9fbe6cfe-9f56-11e9-984b-0242ac1c0002\"]);\n",
              "//# sourceURL=js_6f4020b6d3"
            ],
            "text/plain": [
              "<IPython.core.display.Javascript object>"
            ]
          },
          "metadata": {
            "tags": []
          }
        },
        {
          "output_type": "display_data",
          "data": {
            "application/javascript": [
              "window[\"9fcbb85a-9f56-11e9-984b-0242ac1c0002\"] = window[\"9fc43fa8-9f56-11e9-984b-0242ac1c0002\"].add(window[\"9fcb705c-9f56-11e9-984b-0242ac1c0002\"]);\n",
              "//# sourceURL=js_0f6f683c1a"
            ],
            "text/plain": [
              "<IPython.core.display.Javascript object>"
            ]
          },
          "metadata": {
            "tags": []
          }
        },
        {
          "output_type": "display_data",
          "data": {
            "image/png": "[encoded data removed]",
            "text/plain": [
              "<Figure size 432x288 with 1 Axes>"
            ]
          },
          "metadata": {
            "tags": []
          }
        }
      ]
    }
  ]
}